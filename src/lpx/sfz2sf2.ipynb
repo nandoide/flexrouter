{
 "cells": [
  {
   "cell_type": "code",
   "execution_count": null,
   "metadata": {},
   "outputs": [],
   "source": [
    "# convert sfz files to sf2\n",
    "\n",
    "import os\n",
    "import sys\n",
    "import shutil\n",
    "import zipfile\n",
    "import subprocess\n",
    "import glob\n",
    "\n",
    "\n",
    "polyphone = \"/Applications/polyphone.app/Contents/MacOS/polyphone\"\n",
    "root = \"/Users/nandoide/Downloads/VCSL-1.2.2-RC\"\n",
    "root = \"/Users/nandoide/Downloads/VSCO-2-CE-1.1.0\"\n",
    "output_dir = os.path.join(root, \"sf2\")\n",
    "if not os.path.exists(output_dir):\n",
    "    os.makedirs(output_dir)\n",
    "\n",
    "# get path to all sfz files in root and subfolders\n",
    "\n",
    "sfz_files = []\n",
    "for root, dirs, files in os.walk(root):\n",
    "    for file in files:\n",
    "        if file.endswith(\".sfz\"):\n",
    "            sfz_files.append(os.path.join(root, file))\n",
    "\n",
    "for i, sfz_file in enumerate(sfz_files):\n",
    "    print(sfz_file)\n",
    "    # convert sfz to sf2\n",
    "    cmd = f\"\"\" {polyphone} -1 -i \"{sfz_file}\" -d \"{output_dir}\" \"\"\"\n",
    "    print(cmd)\n",
    "    subprocess.run(cmd, shell=True)\n"
   ]
  }
 ],
 "metadata": {
  "kernelspec": {
   "display_name": ".py11",
   "language": "python",
   "name": "python3"
  },
  "language_info": {
   "codemirror_mode": {
    "name": "ipython",
    "version": 3
   },
   "file_extension": ".py",
   "mimetype": "text/x-python",
   "name": "python",
   "nbconvert_exporter": "python",
   "pygments_lexer": "ipython3",
   "version": "3.11.5"
  }
 },
 "nbformat": 4,
 "nbformat_minor": 2
}
