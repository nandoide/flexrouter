{
 "cells": [
  {
   "cell_type": "code",
   "execution_count": 12,
   "metadata": {},
   "outputs": [
    {
     "name": "stdout",
     "output_type": "stream",
     "text": [
      "/Users/nandoide/Downloads/VSCO-2-CE-1.1.0/ViolaEnsSusVib-Quiet.sfz\n",
      " /Applications/polyphone.app/Contents/MacOS/polyphone -1 -i \"/Users/nandoide/Downloads/VSCO-2-CE-1.1.0/ViolaEnsSusVib-Quiet.sfz\" -d \"/Users/nandoide/Downloads/VSCO-2-CE-1.1.0/sf2\" \n",
      "Loading file /Users/nandoide/Downloads/VSCO-2-CE-1.1.0/ViolaEnsSusVib-Quiet.sfz...\n",
      "File loaded\n",
      "Saving file /Users/nandoide/Downloads/VSCO-2-CE-1.1.0/sf2/ViolaEnsSusVib-Quiet.sf2 ...\n",
      "done\n",
      "/Users/nandoide/Downloads/VSCO-2-CE-1.1.0/TrumpetStraightMuteSus.sfz\n",
      " /Applications/polyphone.app/Contents/MacOS/polyphone -1 -i \"/Users/nandoide/Downloads/VSCO-2-CE-1.1.0/TrumpetStraightMuteSus.sfz\" -d \"/Users/nandoide/Downloads/VSCO-2-CE-1.1.0/sf2\" \n"
     ]
    },
    {
     "name": "stderr",
     "output_type": "stream",
     "text": [
      "\"opcode not supported: ampegdynamic (1)\"\n"
     ]
    },
    {
     "name": "stdout",
     "output_type": "stream",
     "text": [
      "Loading file /Users/nandoide/Downloads/VSCO-2-CE-1.1.0/TrumpetStraightMuteSus.sfz...\n",
      "File loaded\n",
      "Saving file /Users/nandoide/Downloads/VSCO-2-CE-1.1.0/sf2/TrumpetStraightMuteSus.sf2 ...\n",
      "done\n",
      "/Users/nandoide/Downloads/VSCO-2-CE-1.1.0/CelloEnsTrem.sfz\n",
      " /Applications/polyphone.app/Contents/MacOS/polyphone -1 -i \"/Users/nandoide/Downloads/VSCO-2-CE-1.1.0/CelloEnsTrem.sfz\" -d \"/Users/nandoide/Downloads/VSCO-2-CE-1.1.0/sf2\" \n"
     ]
    },
    {
     "name": "stderr",
     "output_type": "stream",
     "text": [
      "\"opcode not supported: ampegdynamic (1)\"\n",
      "\"opcode not supported: seqlength (1)\"\n",
      "\"opcode not supported: seqposition (1)\"\n"
     ]
    },
    {
     "name": "stdout",
     "output_type": "stream",
     "text": [
      "Loading file /Users/nandoide/Downloads/VSCO-2-CE-1.1.0/CelloEnsTrem.sfz...\n",
      "File loaded\n",
      "Saving file /Users/nandoide/Downloads/VSCO-2-CE-1.1.0/sf2/CelloEnsTrem.sf2 ...\n",
      "done\n",
      "/Users/nandoide/Downloads/VSCO-2-CE-1.1.0/ViolinEnsSusVib.sfz\n",
      " /Applications/polyphone.app/Contents/MacOS/polyphone -1 -i \"/Users/nandoide/Downloads/VSCO-2-CE-1.1.0/ViolinEnsSusVib.sfz\" -d \"/Users/nandoide/Downloads/VSCO-2-CE-1.1.0/sf2\" \n"
     ]
    },
    {
     "name": "stderr",
     "output_type": "stream",
     "text": [
      "\"opcode not supported: ampegdynamic (1)\"\n"
     ]
    },
    {
     "name": "stdout",
     "output_type": "stream",
     "text": [
      "Loading file /Users/nandoide/Downloads/VSCO-2-CE-1.1.0/ViolinEnsSusVib.sfz...\n",
      "File loaded\n",
      "Saving file /Users/nandoide/Downloads/VSCO-2-CE-1.1.0/sf2/ViolinEnsSusVib.sf2 ...\n",
      "done\n",
      "/Users/nandoide/Downloads/VSCO-2-CE-1.1.0/CelloEns-KS.sfz\n",
      " /Applications/polyphone.app/Contents/MacOS/polyphone -1 -i \"/Users/nandoide/Downloads/VSCO-2-CE-1.1.0/CelloEns-KS.sfz\" -d \"/Users/nandoide/Downloads/VSCO-2-CE-1.1.0/sf2\" \n"
     ]
    },
    {
     "name": "stderr",
     "output_type": "stream",
     "text": [
      "\"opcode not supported: ampegdynamic (1)\"\n"
     ]
    },
    {
     "name": "stdout",
     "output_type": "stream",
     "text": [
      "Loading file /Users/nandoide/Downloads/VSCO-2-CE-1.1.0/CelloEns-KS.sfz...\n",
      "File loaded\n",
      "Saving file /Users/nandoide/Downloads/VSCO-2-CE-1.1.0/sf2/CelloEns-KS.sf2 ...\n"
     ]
    },
    {
     "name": "stderr",
     "output_type": "stream",
     "text": [
      "\"opcode not supported: swdefault (c6)\"\n",
      "\"opcode not supported: swlokey (c6)\"\n",
      "\"opcode not supported: swhikey (d#6)\"\n",
      "\"opcode not supported: swlast (c6)\"\n",
      "\"opcode not supported: swlabel (C6 Sustain Vibrato)\"\n",
      "\"opcode not supported: ampegdynamic (1)\"\n",
      "\"opcode not supported: swdefault (c6)\"\n",
      "\"opcode not supported: swlokey (c6)\"\n",
      "\"opcode not supported: swhikey (d#6)\"\n",
      "\"opcode not supported: swlast (c#6)\"\n",
      "\"opcode not supported: swlabel (C#6 Tremolo)\"\n",
      "\"opcode not supported: ampegdynamic (1)\"\n",
      "\"opcode not supported: swdefault (c6)\"\n",
      "\"opcode not supported: swlokey (c6)\"\n",
      "\"opcode not supported: swhikey (d#6)\"\n",
      "\"opcode not supported: swlast (d6)\"\n",
      "\"opcode not supported: swlabel (D6 Spiccato)\"\n",
      "\"opcode not supported: ampegdynamic (1)\"\n",
      "\"opcode not supported: seqlength (2)\"\n",
      "\"opcode not supported: seqposition (1)\"\n",
      "\"opcode not supported: swdefault (c6)\"\n",
      "\"opcode not supported: swlokey (c6)\"\n",
      "\"opcode not supported: swhikey (d#6)\"\n",
      "\"opcode not supported: swlast (d6)\"\n",
      "\"opcode not supported: swlabel (D6 Spiccato)\"\n",
      "\"opcode not supported: ampegdynamic (1)\"\n",
      "\"opcode not supported: seqlength (2)\"\n",
      "\"opcode not supported: seqposition (2)\"\n",
      "\"opcode not supported: swdefault (c6)\"\n",
      "\"opcode not supported: swlokey (c6)\"\n",
      "\"opcode not supported: swhikey (d#6)\"\n",
      "\"opcode not supported: swlast (d#6)\"\n",
      "\"opcode not supported: swlabel (D#6 Pizzicato)\"\n",
      "\"opcode not supported: ampegdynamic (1)\"\n",
      "\"opcode not supported: seqlength (2)\"\n",
      "\"opcode not supported: seqposition (1)\"\n",
      "\"opcode not supported: swdefault (c6)\"\n",
      "\"opcode not supported: swlokey (c6)\"\n",
      "\"opcode not supported: swhikey (d#6)\"\n",
      "\"opcode not supported: swlast (d#6)\"\n",
      "\"opcode not supported: swlabel (D#6 Pizzicato)\"\n",
      "\"opcode not supported: ampegdynamic (1)\"\n",
      "\"opcode not supported: seqlength (2)\"\n",
      "\"opcode not supported: seqposition (2)\"\n"
     ]
    },
    {
     "name": "stdout",
     "output_type": "stream",
     "text": [
      "done\n",
      "/Users/nandoide/Downloads/VSCO-2-CE-1.1.0/SViolinVib.sfz\n",
      " /Applications/polyphone.app/Contents/MacOS/polyphone -1 -i \"/Users/nandoide/Downloads/VSCO-2-CE-1.1.0/SViolinVib.sfz\" -d \"/Users/nandoide/Downloads/VSCO-2-CE-1.1.0/sf2\" \n",
      "Loading file /Users/nandoide/Downloads/VSCO-2-CE-1.1.0/SViolinVib.sfz...\n",
      "File loaded\n",
      "Saving file /Users/nandoide/Downloads/VSCO-2-CE-1.1.0/sf2/SViolinVib.sf2 ...\n",
      "done\n",
      "/Users/nandoide/Downloads/VSCO-2-CE-1.1.0/SViolinTrem.sfz\n",
      " /Applications/polyphone.app/Contents/MacOS/polyphone -1 -i \"/Users/nandoide/Downloads/VSCO-2-CE-1.1.0/SViolinTrem.sfz\" -d \"/Users/nandoide/Downloads/VSCO-2-CE-1.1.0/sf2\" \n"
     ]
    },
    {
     "name": "stderr",
     "output_type": "stream",
     "text": [
      "\"opcode not supported: ampegdynamic (1)\"\n"
     ]
    },
    {
     "name": "stdout",
     "output_type": "stream",
     "text": [
      "Loading file /Users/nandoide/Downloads/VSCO-2-CE-1.1.0/SViolinTrem.sfz...\n",
      "File loaded\n",
      "Saving file /Users/nandoide/Downloads/VSCO-2-CE-1.1.0/sf2/SViolinTrem.sf2 ...\n",
      "done\n"
     ]
    },
    {
     "name": "stderr",
     "output_type": "stream",
     "text": [
      "\"opcode not supported: ampegdynamic (1)\"\n",
      "\"opcode not supported: seqlength (1)\"\n",
      "\"opcode not supported: seqposition (1)\"\n"
     ]
    },
    {
     "name": "stdout",
     "output_type": "stream",
     "text": [
      "/Users/nandoide/Downloads/VSCO-2-CE-1.1.0/Xylophone.sfz\n",
      " /Applications/polyphone.app/Contents/MacOS/polyphone -1 -i \"/Users/nandoide/Downloads/VSCO-2-CE-1.1.0/Xylophone.sfz\" -d \"/Users/nandoide/Downloads/VSCO-2-CE-1.1.0/sf2\" \n",
      "Loading file /Users/nandoide/Downloads/VSCO-2-CE-1.1.0/Xylophone.sfz...\n",
      "File loaded\n",
      "Saving file /Users/nandoide/Downloads/VSCO-2-CE-1.1.0/sf2/Xylophone.sf2 ...\n",
      "done\n",
      "/Users/nandoide/Downloads/VSCO-2-CE-1.1.0/CelloEnsPizz.sfz\n",
      " /Applications/polyphone.app/Contents/MacOS/polyphone -1 -i \"/Users/nandoide/Downloads/VSCO-2-CE-1.1.0/CelloEnsPizz.sfz\" -d \"/Users/nandoide/Downloads/VSCO-2-CE-1.1.0/sf2\" \n",
      "Loading file /Users/nandoide/Downloads/VSCO-2-CE-1.1.0/CelloEnsPizz.sfz...\n",
      "File loaded\n",
      "Saving file /Users/nandoide/Downloads/VSCO-2-CE-1.1.0/sf2/CelloEnsPizz.sf2 ...\n"
     ]
    },
    {
     "name": "stderr",
     "output_type": "stream",
     "text": [
      "\"opcode not supported: ampegdynamic (1)\"\n",
      "\"opcode not supported: ampegdynamic (1)\"\n",
      "\"opcode not supported: seqlength (2)\"\n",
      "\"opcode not supported: seqposition (1)\"\n",
      "\"opcode not supported: seqlength (2)\"\n",
      "\"opcode not supported: seqposition (2)\"\n"
     ]
    },
    {
     "name": "stdout",
     "output_type": "stream",
     "text": [
      "done\n",
      "/Users/nandoide/Downloads/VSCO-2-CE-1.1.0/CelloEnsSpic.sfz\n",
      " /Applications/polyphone.app/Contents/MacOS/polyphone -1 -i \"/Users/nandoide/Downloads/VSCO-2-CE-1.1.0/CelloEnsSpic.sfz\" -d \"/Users/nandoide/Downloads/VSCO-2-CE-1.1.0/sf2\" \n",
      "Loading file /Users/nandoide/Downloads/VSCO-2-CE-1.1.0/CelloEnsSpic.sfz...\n",
      "File loaded\n",
      "Saving file /Users/nandoide/Downloads/VSCO-2-CE-1.1.0/sf2/CelloEnsSpic.sf2 ...\n"
     ]
    },
    {
     "name": "stderr",
     "output_type": "stream",
     "text": [
      "\"opcode not supported: ampegdynamic (1)\"\n",
      "\"opcode not supported: seqlength (2)\"\n",
      "\"opcode not supported: seqposition (1)\"\n",
      "\"opcode not supported: seqlength (2)\"\n",
      "\"opcode not supported: seqposition (2)\"\n",
      "\"opcode not supported: swdefault (c6)\"\n",
      "\"opcode not supported: swlokey (c6)\"\n",
      "\"opcode not supported: swhikey (e6)\"\n",
      "\"opcode not supported: swlast (c6)\"\n",
      "\"opcode not supported: swlabel (C6 Sustain Non-Vibrato)\"\n",
      "\"opcode not supported: ampegdynamic (1)\"\n",
      "\"opcode not supported: swdefault (c6)\"\n",
      "\"opcode not supported: swlokey (c6)\"\n",
      "\"opcode not supported: swhikey (e6)\"\n",
      "\"opcode not supported: swlast (c#6)\"\n",
      "\"opcode not supported: swlabel (C#6 Sustain Vibrato)\"\n",
      "\"opcode not supported: ampegdynamic (1)\"\n",
      "\"opcode not supported: swdefault (c6)\"\n",
      "\"opcode not supported: swlokey (c6)\"\n",
      "\"opcode not supported: swhikey (e6)\"\n",
      "\"opcode not supported: swlast (d6)\"\n",
      "\"opcode not supported: swlabel (D6 Tremolo)\"\n",
      "\"opcode not supported: ampegdynamic (1)\"\n",
      "\"opcode not supported: seqlength (1)\"\n",
      "\"opcode not supported: seqposition (1)\"\n",
      "\"opcode not supported: swdefault (c6)\"\n",
      "\"opcode not supported: swlokey (c6)\"\n",
      "\"opcode not supported: swhikey (e6)\"\n",
      "\"opcode not supported: swlast (d#6)\"\n",
      "\"opcode not supported: swlabel (D#6 Spiccato)\"\n",
      "\"opcode not supported: ampegdynamic (1)\"\n",
      "\"opcode not supported: lorand (0.0)\"\n",
      "\"opcode not supported: hirand (0.5)\"\n",
      "\"opcode not supported: swdefault (c6)\"\n",
      "\"opcode not supported: swlokey (c6)\"\n",
      "\"opcode not supported: swhikey (e6)\"\n",
      "\"opcode not supported: swlast (d#6)\"\n",
      "\"opcode not supported: swlabel (D#6 Spiccato)\"\n",
      "\"opcode not supported: ampegdynamic (1)\"\n",
      "\"opcode not supported: lorand (0.5)\"\n",
      "\"opcode not supported: hirand (1.0)\"\n",
      "\"opcode not supported: swdefault (c6)\"\n",
      "\"opcode not supported: swlokey (c6)\"\n",
      "\"opcode not supported: swhikey (e6)\"\n",
      "\"opcode not supported: swlast (e6)\"\n",
      "\"opcode not supported: swlabel (E6 Pizzicato)\"\n",
      "\"opcode not supported: ampegdynamic (1)\"\n",
      "\"opcode not supported: lorand (0.0)\"\n",
      "\"opcode not supported: hirand (0.5)\"\n",
      "\"opcode not supported: swdefault (c6)\"\n",
      "\"opcode not supported: swlokey (c6)\"\n",
      "\"opcode not supported: swhikey (e6)\"\n",
      "\"opcode not supported: swlast (e6)\"\n",
      "\"opcode not supported: swlabel (E6 Pizzicato)\"\n",
      "\"opcode not supported: ampegdynamic (1)\"\n",
      "\"opcode not supported: lorand (0.5)\"\n",
      "\"opcode not supported: hirand (1.0)\"\n"
     ]
    },
    {
     "name": "stdout",
     "output_type": "stream",
     "text": [
      "done\n",
      "/Users/nandoide/Downloads/VSCO-2-CE-1.1.0/Contrabass-KS.sfz\n",
      " /Applications/polyphone.app/Contents/MacOS/polyphone -1 -i \"/Users/nandoide/Downloads/VSCO-2-CE-1.1.0/Contrabass-KS.sfz\" -d \"/Users/nandoide/Downloads/VSCO-2-CE-1.1.0/sf2\" \n",
      "Loading file /Users/nandoide/Downloads/VSCO-2-CE-1.1.0/Contrabass-KS.sfz...\n",
      "File loaded\n",
      "Saving file /Users/nandoide/Downloads/VSCO-2-CE-1.1.0/sf2/Contrabass-KS.sf2 ...\n",
      "done\n",
      "/Users/nandoide/Downloads/VSCO-2-CE-1.1.0/TrumpetStac.sfz\n",
      " /Applications/polyphone.app/Contents/MacOS/polyphone -1 -i \"/Users/nandoide/Downloads/VSCO-2-CE-1.1.0/TrumpetStac.sfz\" -d \"/Users/nandoide/Downloads/VSCO-2-CE-1.1.0/sf2\" \n",
      "Loading file /Users/nandoide/Downloads/VSCO-2-CE-1.1.0/TrumpetStac.sfz...\n",
      "File loaded\n",
      "Saving file /Users/nandoide/Downloads/VSCO-2-CE-1.1.0/sf2/TrumpetStac.sf2 ...\n",
      "done\n",
      "/Users/nandoide/Downloads/VSCO-2-CE-1.1.0/SViolinSpic.sfz\n",
      " /Applications/polyphone.app/Contents/MacOS/polyphone -1 -i \"/Users/nandoide/Downloads/VSCO-2-CE-1.1.0/SViolinSpic.sfz\" -d \"/Users/nandoide/Downloads/VSCO-2-CE-1.1.0/sf2\" \n"
     ]
    },
    {
     "name": "stderr",
     "output_type": "stream",
     "text": [
      "\"opcode not supported: ampegdynamic (1)\"\n",
      "\"opcode not supported: lorand (0.0)\"\n",
      "\"opcode not supported: hirand (0.5)\"\n",
      "\"opcode not supported: lorand (0.5)\"\n",
      "\"opcode not supported: hirand (1.0)\"\n"
     ]
    },
    {
     "name": "stdout",
     "output_type": "stream",
     "text": [
      "Loading file /Users/nandoide/Downloads/VSCO-2-CE-1.1.0/SViolinSpic.sfz...\n",
      "File loaded\n",
      "Saving file /Users/nandoide/Downloads/VSCO-2-CE-1.1.0/sf2/SViolinSpic.sf2 ...\n",
      "done\n",
      "/Users/nandoide/Downloads/VSCO-2-CE-1.1.0/SViolinPizz.sfz\n",
      " /Applications/polyphone.app/Contents/MacOS/polyphone -1 -i \"/Users/nandoide/Downloads/VSCO-2-CE-1.1.0/SViolinPizz.sfz\" -d \"/Users/nandoide/Downloads/VSCO-2-CE-1.1.0/sf2\" \n"
     ]
    },
    {
     "name": "stderr",
     "output_type": "stream",
     "text": [
      "\"opcode not supported: ampegdynamic (1)\"\n",
      "\"opcode not supported: seqlength (2)\"\n",
      "\"opcode not supported: seqposition (1)\"\n",
      "\"opcode not supported: seqlength (2)\"\n",
      "\"opcode not supported: seqposition (2)\"\n"
     ]
    },
    {
     "name": "stdout",
     "output_type": "stream",
     "text": [
      "Loading file /Users/nandoide/Downloads/VSCO-2-CE-1.1.0/SViolinPizz.sfz...\n",
      "File loaded\n",
      "Saving file /Users/nandoide/Downloads/VSCO-2-CE-1.1.0/sf2/SViolinPizz.sf2 ...\n",
      "done\n",
      "/Users/nandoide/Downloads/VSCO-2-CE-1.1.0/ViolinEnsSusVib-Quiet.sfz\n",
      " /Applications/polyphone.app/Contents/MacOS/polyphone -1 -i \"/Users/nandoide/Downloads/VSCO-2-CE-1.1.0/ViolinEnsSusVib-Quiet.sfz\" -d \"/Users/nandoide/Downloads/VSCO-2-CE-1.1.0/sf2\" \n"
     ]
    },
    {
     "name": "stderr",
     "output_type": "stream",
     "text": [
      "\"opcode not supported: ampegdynamic (1)\"\n",
      "\"opcode not supported: lorand (0.0)\"\n",
      "\"opcode not supported: hirand (0.5)\"\n",
      "\"opcode not supported: lorand (0.5)\"\n",
      "\"opcode not supported: hirand (1.0)\"\n"
     ]
    },
    {
     "name": "stdout",
     "output_type": "stream",
     "text": [
      "Loading file /Users/nandoide/Downloads/VSCO-2-CE-1.1.0/ViolinEnsSusVib-Quiet.sfz...\n",
      "File loaded\n",
      "Saving file /Users/nandoide/Downloads/VSCO-2-CE-1.1.0/sf2/ViolinEnsSusVib-Quiet.sf2 ...\n",
      "done\n",
      "/Users/nandoide/Downloads/VSCO-2-CE-1.1.0/BassoonVib.sfz\n",
      " /Applications/polyphone.app/Contents/MacOS/polyphone -1 -i \"/Users/nandoide/Downloads/VSCO-2-CE-1.1.0/BassoonVib.sfz\" -d \"/Users/nandoide/Downloads/VSCO-2-CE-1.1.0/sf2\" \n"
     ]
    },
    {
     "name": "stderr",
     "output_type": "stream",
     "text": [
      "\"opcode not supported: ampegdynamic (1)\"\n"
     ]
    },
    {
     "name": "stdout",
     "output_type": "stream",
     "text": [
      "Loading file /Users/nandoide/Downloads/VSCO-2-CE-1.1.0/BassoonVib.sfz...\n",
      "File loaded\n",
      "Saving file /Users/nandoide/Downloads/VSCO-2-CE-1.1.0/sf2/BassoonVib.sf2 ...\n",
      "done\n",
      "/Users/nandoide/Downloads/VSCO-2-CE-1.1.0/TrumpetHarmonMuteSus.sfz\n",
      " /Applications/polyphone.app/Contents/MacOS/polyphone -1 -i \"/Users/nandoide/Downloads/VSCO-2-CE-1.1.0/TrumpetHarmonMuteSus.sfz\" -d \"/Users/nandoide/Downloads/VSCO-2-CE-1.1.0/sf2\" \n"
     ]
    },
    {
     "name": "stderr",
     "output_type": "stream",
     "text": [
      "\"opcode not supported: ampegdynamic (1)\"\n"
     ]
    },
    {
     "name": "stdout",
     "output_type": "stream",
     "text": [
      "Loading file /Users/nandoide/Downloads/VSCO-2-CE-1.1.0/TrumpetHarmonMuteSus.sfz...\n",
      "File loaded\n",
      "Saving file /Users/nandoide/Downloads/VSCO-2-CE-1.1.0/sf2/TrumpetHarmonMuteSus.sf2 ...\n",
      "done\n",
      "/Users/nandoide/Downloads/VSCO-2-CE-1.1.0/CelloEnsSusVib-Quiet.sfz\n",
      " /Applications/polyphone.app/Contents/MacOS/polyphone -1 -i \"/Users/nandoide/Downloads/VSCO-2-CE-1.1.0/CelloEnsSusVib-Quiet.sfz\" -d \"/Users/nandoide/Downloads/VSCO-2-CE-1.1.0/sf2\" \n",
      "Loading file /Users/nandoide/Downloads/VSCO-2-CE-1.1.0/CelloEnsSusVib-Quiet.sfz...\n"
     ]
    },
    {
     "name": "stderr",
     "output_type": "stream",
     "text": [
      "\"opcode not supported: ampegdynamic (1)\"\n",
      "\"opcode not supported: seqlength (1)\"\n",
      "\"opcode not supported: seqposition (1)\"\n",
      "\"opcode not supported: ampegdynamic (1)\"\n"
     ]
    },
    {
     "name": "stdout",
     "output_type": "stream",
     "text": [
      "File loaded\n",
      "Saving file /Users/nandoide/Downloads/VSCO-2-CE-1.1.0/sf2/CelloEnsSusVib-Quiet.sf2 ...\n",
      "done\n",
      "/Users/nandoide/Downloads/VSCO-2-CE-1.1.0/UprightPiano.sfz\n",
      " /Applications/polyphone.app/Contents/MacOS/polyphone -1 -i \"/Users/nandoide/Downloads/VSCO-2-CE-1.1.0/UprightPiano.sfz\" -d \"/Users/nandoide/Downloads/VSCO-2-CE-1.1.0/sf2\" \n",
      "Loading file /Users/nandoide/Downloads/VSCO-2-CE-1.1.0/UprightPiano.sfz...\n"
     ]
    },
    {
     "name": "stderr",
     "output_type": "stream",
     "text": [
      "\"opcode not supported: ampegdynamic (1)\"\n"
     ]
    },
    {
     "name": "stdout",
     "output_type": "stream",
     "text": [
      "File loaded\n",
      "Saving file /Users/nandoide/Downloads/VSCO-2-CE-1.1.0/sf2/UprightPiano.sf2 ...\n",
      "done\n",
      "/Users/nandoide/Downloads/VSCO-2-CE-1.1.0/PiccoloStac.sfz\n",
      " /Applications/polyphone.app/Contents/MacOS/polyphone -1 -i \"/Users/nandoide/Downloads/VSCO-2-CE-1.1.0/PiccoloStac.sfz\" -d \"/Users/nandoide/Downloads/VSCO-2-CE-1.1.0/sf2\" \n",
      "Loading file /Users/nandoide/Downloads/VSCO-2-CE-1.1.0/PiccoloStac.sfz...\n",
      "File loaded\n",
      "Saving file /Users/nandoide/Downloads/VSCO-2-CE-1.1.0/sf2/PiccoloStac.sf2 ...\n",
      "done\n",
      "/Users/nandoide/Downloads/VSCO-2-CE-1.1.0/OrganLoudPedal.sfz\n",
      " /Applications/polyphone.app/Contents/MacOS/polyphone -1 -i \"/Users/nandoide/Downloads/VSCO-2-CE-1.1.0/OrganLoudPedal.sfz\" -d \"/Users/nandoide/Downloads/VSCO-2-CE-1.1.0/sf2\" \n"
     ]
    },
    {
     "name": "stderr",
     "output_type": "stream",
     "text": [
      "\"opcode not supported: ampegdynamic (1)\"\n"
     ]
    },
    {
     "name": "stdout",
     "output_type": "stream",
     "text": [
      "Loading file /Users/nandoide/Downloads/VSCO-2-CE-1.1.0/OrganLoudPedal.sfz...\n",
      "File loaded\n",
      "Saving file /Users/nandoide/Downloads/VSCO-2-CE-1.1.0/sf2/OrganLoudPedal.sf2 ...\n",
      "done\n",
      "/Users/nandoide/Downloads/VSCO-2-CE-1.1.0/OrganLoud.sfz\n",
      " /Applications/polyphone.app/Contents/MacOS/polyphone -1 -i \"/Users/nandoide/Downloads/VSCO-2-CE-1.1.0/OrganLoud.sfz\" -d \"/Users/nandoide/Downloads/VSCO-2-CE-1.1.0/sf2\" \n"
     ]
    },
    {
     "name": "stderr",
     "output_type": "stream",
     "text": [
      "\"opcode not supported: ampegdynamic (1)\"\n"
     ]
    },
    {
     "name": "stdout",
     "output_type": "stream",
     "text": [
      "Loading file /Users/nandoide/Downloads/VSCO-2-CE-1.1.0/OrganLoud.sfz...\n",
      "File loaded\n",
      "Saving file /Users/nandoide/Downloads/VSCO-2-CE-1.1.0/sf2/OrganLoud.sf2 ...\n",
      "done\n",
      "/Users/nandoide/Downloads/VSCO-2-CE-1.1.0/ContrabassSusVB.sfz\n",
      " /Applications/polyphone.app/Contents/MacOS/polyphone -1 -i \"/Users/nandoide/Downloads/VSCO-2-CE-1.1.0/ContrabassSusVB.sfz\" -d \"/Users/nandoide/Downloads/VSCO-2-CE-1.1.0/sf2\" \n"
     ]
    },
    {
     "name": "stderr",
     "output_type": "stream",
     "text": [
      "\"opcode not supported: ampegdynamic (1)\"\n"
     ]
    },
    {
     "name": "stdout",
     "output_type": "stream",
     "text": [
      "Loading file /Users/nandoide/Downloads/VSCO-2-CE-1.1.0/ContrabassSusVB.sfz...\n",
      "File loaded\n",
      "Saving file /Users/nandoide/Downloads/VSCO-2-CE-1.1.0/sf2/ContrabassSusVB.sf2 ...\n",
      "done\n",
      "/Users/nandoide/Downloads/VSCO-2-CE-1.1.0/ViolaEnsTrem.sfz\n",
      " /Applications/polyphone.app/Contents/MacOS/polyphone -1 -i \"/Users/nandoide/Downloads/VSCO-2-CE-1.1.0/ViolaEnsTrem.sfz\" -d \"/Users/nandoide/Downloads/VSCO-2-CE-1.1.0/sf2\" \n"
     ]
    },
    {
     "name": "stderr",
     "output_type": "stream",
     "text": [
      "\"opcode not supported: ampegdynamic (1)\"\n"
     ]
    },
    {
     "name": "stdout",
     "output_type": "stream",
     "text": [
      "Loading file /Users/nandoide/Downloads/VSCO-2-CE-1.1.0/ViolaEnsTrem.sfz...\n",
      "File loaded\n",
      "Saving file /Users/nandoide/Downloads/VSCO-2-CE-1.1.0/sf2/ViolaEnsTrem.sf2 ...\n",
      "done\n",
      "/Users/nandoide/Downloads/VSCO-2-CE-1.1.0/ViolinEnsTrem.sfz\n",
      " /Applications/polyphone.app/Contents/MacOS/polyphone -1 -i \"/Users/nandoide/Downloads/VSCO-2-CE-1.1.0/ViolinEnsTrem.sfz\" -d \"/Users/nandoide/Downloads/VSCO-2-CE-1.1.0/sf2\" \n"
     ]
    },
    {
     "name": "stderr",
     "output_type": "stream",
     "text": [
      "\"opcode not supported: ampegdynamic (1)\"\n"
     ]
    },
    {
     "name": "stdout",
     "output_type": "stream",
     "text": [
      "Loading file /Users/nandoide/Downloads/VSCO-2-CE-1.1.0/ViolinEnsTrem.sfz...\n",
      "File loaded\n",
      "Saving file /Users/nandoide/Downloads/VSCO-2-CE-1.1.0/sf2/ViolinEnsTrem.sf2 ...\n",
      "done\n",
      "/Users/nandoide/Downloads/VSCO-2-CE-1.1.0/TubularBells.sfz\n",
      " /Applications/polyphone.app/Contents/MacOS/polyphone -1 -i \"/Users/nandoide/Downloads/VSCO-2-CE-1.1.0/TubularBells.sfz\" -d \"/Users/nandoide/Downloads/VSCO-2-CE-1.1.0/sf2\" \n"
     ]
    },
    {
     "name": "stderr",
     "output_type": "stream",
     "text": [
      "\"opcode not supported: ampegdynamic (1)\"\n"
     ]
    },
    {
     "name": "stdout",
     "output_type": "stream",
     "text": [
      "Loading file /Users/nandoide/Downloads/VSCO-2-CE-1.1.0/TubularBells.sfz...\n",
      "File loaded\n",
      "Saving file /Users/nandoide/Downloads/VSCO-2-CE-1.1.0/sf2/TubularBells.sf2 ...\n",
      "done\n",
      "/Users/nandoide/Downloads/VSCO-2-CE-1.1.0/FluteSusNV.sfz\n",
      " /Applications/polyphone.app/Contents/MacOS/polyphone -1 -i \"/Users/nandoide/Downloads/VSCO-2-CE-1.1.0/FluteSusNV.sfz\" -d \"/Users/nandoide/Downloads/VSCO-2-CE-1.1.0/sf2\" \n"
     ]
    },
    {
     "name": "stderr",
     "output_type": "stream",
     "text": [
      "\"opcode not supported: ampegdynamic (1)\"\n",
      "\"opcode not supported: seqlength (1)\"\n",
      "\"opcode not supported: seqposition (1)\"\n"
     ]
    },
    {
     "name": "stdout",
     "output_type": "stream",
     "text": [
      "Loading file /Users/nandoide/Downloads/VSCO-2-CE-1.1.0/FluteSusNV.sfz...\n",
      "File loaded\n",
      "Saving file /Users/nandoide/Downloads/VSCO-2-CE-1.1.0/sf2/FluteSusNV.sf2 ...\n",
      "done\n",
      "/Users/nandoide/Downloads/VSCO-2-CE-1.1.0/ContrabassSusNV.sfz\n",
      " /Applications/polyphone.app/Contents/MacOS/polyphone -1 -i \"/Users/nandoide/Downloads/VSCO-2-CE-1.1.0/ContrabassSusNV.sfz\" -d \"/Users/nandoide/Downloads/VSCO-2-CE-1.1.0/sf2\" \n"
     ]
    },
    {
     "name": "stderr",
     "output_type": "stream",
     "text": [
      "\"opcode not supported: ampegdynamic (1)\"\n"
     ]
    },
    {
     "name": "stdout",
     "output_type": "stream",
     "text": [
      "Loading file /Users/nandoide/Downloads/VSCO-2-CE-1.1.0/ContrabassSusNV.sfz...\n",
      "File loaded\n",
      "Saving file /Users/nandoide/Downloads/VSCO-2-CE-1.1.0/sf2/ContrabassSusNV.sf2 ...\n",
      "done\n",
      "/Users/nandoide/Downloads/VSCO-2-CE-1.1.0/TimpaniRolls.sfz\n",
      " /Applications/polyphone.app/Contents/MacOS/polyphone -1 -i \"/Users/nandoide/Downloads/VSCO-2-CE-1.1.0/TimpaniRolls.sfz\" -d \"/Users/nandoide/Downloads/VSCO-2-CE-1.1.0/sf2\" \n"
     ]
    },
    {
     "name": "stderr",
     "output_type": "stream",
     "text": [
      "\"opcode not supported: ampegdynamic (1)\"\n"
     ]
    },
    {
     "name": "stdout",
     "output_type": "stream",
     "text": [
      "Loading file /Users/nandoide/Downloads/VSCO-2-CE-1.1.0/TimpaniRolls.sfz...\n",
      "File loaded\n",
      "Saving file /Users/nandoide/Downloads/VSCO-2-CE-1.1.0/sf2/TimpaniRolls.sf2 ...\n",
      "done\n",
      "/Users/nandoide/Downloads/VSCO-2-CE-1.1.0/ViolaEnsSusVib.sfz\n",
      " /Applications/polyphone.app/Contents/MacOS/polyphone -1 -i \"/Users/nandoide/Downloads/VSCO-2-CE-1.1.0/ViolaEnsSusVib.sfz\" -d \"/Users/nandoide/Downloads/VSCO-2-CE-1.1.0/sf2\" \n"
     ]
    },
    {
     "name": "stderr",
     "output_type": "stream",
     "text": [
      "\"opcode not supported: ampegdynamic (1)\"\n",
      "\"opcode not supported: seqlength (1)\"\n",
      "\"opcode not supported: seqposition (1)\"\n"
     ]
    },
    {
     "name": "stdout",
     "output_type": "stream",
     "text": [
      "Loading file /Users/nandoide/Downloads/VSCO-2-CE-1.1.0/ViolaEnsSusVib.sfz...\n",
      "File loaded\n",
      "Saving file /Users/nandoide/Downloads/VSCO-2-CE-1.1.0/sf2/ViolaEnsSusVib.sf2 ...\n",
      "done\n",
      "/Users/nandoide/Downloads/VSCO-2-CE-1.1.0/Harp.sfz\n",
      " /Applications/polyphone.app/Contents/MacOS/polyphone -1 -i \"/Users/nandoide/Downloads/VSCO-2-CE-1.1.0/Harp.sfz\" -d \"/Users/nandoide/Downloads/VSCO-2-CE-1.1.0/sf2\" \n"
     ]
    },
    {
     "name": "stderr",
     "output_type": "stream",
     "text": [
      "\"opcode not supported: ampegdynamic (1)\"\n"
     ]
    },
    {
     "name": "stdout",
     "output_type": "stream",
     "text": [
      "Loading file /Users/nandoide/Downloads/VSCO-2-CE-1.1.0/Harp.sfz...\n",
      "File loaded\n",
      "Saving file /Users/nandoide/Downloads/VSCO-2-CE-1.1.0/sf2/Harp.sf2 ...\n",
      "done\n",
      "/Users/nandoide/Downloads/VSCO-2-CE-1.1.0/CelloEnsSusVib.sfz\n",
      " /Applications/polyphone.app/Contents/MacOS/polyphone -1 -i \"/Users/nandoide/Downloads/VSCO-2-CE-1.1.0/CelloEnsSusVib.sfz\" -d \"/Users/nandoide/Downloads/VSCO-2-CE-1.1.0/sf2\" \n"
     ]
    },
    {
     "name": "stderr",
     "output_type": "stream",
     "text": [
      "\"opcode not supported: ampegdynamic (1)\"\n"
     ]
    },
    {
     "name": "stdout",
     "output_type": "stream",
     "text": [
      "Loading file /Users/nandoide/Downloads/VSCO-2-CE-1.1.0/CelloEnsSusVib.sfz...\n",
      "File loaded\n",
      "Saving file /Users/nandoide/Downloads/VSCO-2-CE-1.1.0/sf2/CelloEnsSusVib.sf2 ...\n",
      "done\n",
      "/Users/nandoide/Downloads/VSCO-2-CE-1.1.0/ViolaEnsSpic.sfz\n",
      " /Applications/polyphone.app/Contents/MacOS/polyphone -1 -i \"/Users/nandoide/Downloads/VSCO-2-CE-1.1.0/ViolaEnsSpic.sfz\" -d \"/Users/nandoide/Downloads/VSCO-2-CE-1.1.0/sf2\" \n"
     ]
    },
    {
     "name": "stderr",
     "output_type": "stream",
     "text": [
      "\"opcode not supported: ampegdynamic (1)\"\n"
     ]
    },
    {
     "name": "stdout",
     "output_type": "stream",
     "text": [
      "Loading file /Users/nandoide/Downloads/VSCO-2-CE-1.1.0/ViolaEnsSpic.sfz...\n",
      "File loaded\n",
      "Saving file /Users/nandoide/Downloads/VSCO-2-CE-1.1.0/sf2/ViolaEnsSpic.sf2 ...\n",
      "done\n",
      "/Users/nandoide/Downloads/VSCO-2-CE-1.1.0/ViolaEnsPizz.sfz\n",
      " /Applications/polyphone.app/Contents/MacOS/polyphone -1 -i \"/Users/nandoide/Downloads/VSCO-2-CE-1.1.0/ViolaEnsPizz.sfz\" -d \"/Users/nandoide/Downloads/VSCO-2-CE-1.1.0/sf2\" \n"
     ]
    },
    {
     "name": "stderr",
     "output_type": "stream",
     "text": [
      "\"opcode not supported: ampegdynamic (1)\"\n",
      "\"opcode not supported: seqlength (2)\"\n",
      "\"opcode not supported: seqposition (1)\"\n",
      "\"opcode not supported: seqlength (2)\"\n",
      "\"opcode not supported: seqposition (2)\"\n"
     ]
    },
    {
     "name": "stdout",
     "output_type": "stream",
     "text": [
      "Loading file /Users/nandoide/Downloads/VSCO-2-CE-1.1.0/ViolaEnsPizz.sfz...\n",
      "File loaded\n",
      "Saving file /Users/nandoide/Downloads/VSCO-2-CE-1.1.0/sf2/ViolaEnsPizz.sf2 ...\n",
      "done\n",
      "/Users/nandoide/Downloads/VSCO-2-CE-1.1.0/Glockenspiel.sfz\n",
      " /Applications/polyphone.app/Contents/MacOS/polyphone -1 -i \"/Users/nandoide/Downloads/VSCO-2-CE-1.1.0/Glockenspiel.sfz\" -d \"/Users/nandoide/Downloads/VSCO-2-CE-1.1.0/sf2\" \n"
     ]
    },
    {
     "name": "stderr",
     "output_type": "stream",
     "text": [
      "\"opcode not supported: ampegdynamic (1)\"\n",
      "\"opcode not supported: lorand (0.0)\"\n",
      "\"opcode not supported: hirand (0.5)\"\n",
      "\"opcode not supported: lorand (0.5)\"\n",
      "\"opcode not supported: hirand (1.0)\"\n"
     ]
    },
    {
     "name": "stdout",
     "output_type": "stream",
     "text": [
      "Loading file /Users/nandoide/Downloads/VSCO-2-CE-1.1.0/Glockenspiel.sfz...\n",
      "File loaded\n",
      "Saving file /Users/nandoide/Downloads/VSCO-2-CE-1.1.0/sf2/Glockenspiel.sf2 ...\n",
      "done\n",
      "/Users/nandoide/Downloads/VSCO-2-CE-1.1.0/SViolinVib-Quiet.sfz\n",
      " /Applications/polyphone.app/Contents/MacOS/polyphone -1 -i \"/Users/nandoide/Downloads/VSCO-2-CE-1.1.0/SViolinVib-Quiet.sfz\" -d \"/Users/nandoide/Downloads/VSCO-2-CE-1.1.0/sf2\" \n"
     ]
    },
    {
     "name": "stderr",
     "output_type": "stream",
     "text": [
      "\"opcode not supported: ampegdynamic (1)\"\n"
     ]
    },
    {
     "name": "stdout",
     "output_type": "stream",
     "text": [
      "Loading file /Users/nandoide/Downloads/VSCO-2-CE-1.1.0/SViolinVib-Quiet.sfz...\n",
      "File loaded\n",
      "Saving file /Users/nandoide/Downloads/VSCO-2-CE-1.1.0/sf2/SViolinVib-Quiet.sf2 ...\n",
      "done\n",
      "/Users/nandoide/Downloads/VSCO-2-CE-1.1.0/FluteSusVib.sfz\n",
      " /Applications/polyphone.app/Contents/MacOS/polyphone -1 -i \"/Users/nandoide/Downloads/VSCO-2-CE-1.1.0/FluteSusVib.sfz\" -d \"/Users/nandoide/Downloads/VSCO-2-CE-1.1.0/sf2\" \n"
     ]
    },
    {
     "name": "stderr",
     "output_type": "stream",
     "text": [
      "\"opcode not supported: ampegdynamic (1)\"\n"
     ]
    },
    {
     "name": "stdout",
     "output_type": "stream",
     "text": [
      "Loading file /Users/nandoide/Downloads/VSCO-2-CE-1.1.0/FluteSusVib.sfz...\n",
      "File loaded\n",
      "Saving file /Users/nandoide/Downloads/VSCO-2-CE-1.1.0/sf2/FluteSusVib.sf2 ...\n",
      "done\n",
      "/Users/nandoide/Downloads/VSCO-2-CE-1.1.0/ViolinEnsSpic.sfz\n",
      " /Applications/polyphone.app/Contents/MacOS/polyphone -1 -i \"/Users/nandoide/Downloads/VSCO-2-CE-1.1.0/ViolinEnsSpic.sfz\" -d \"/Users/nandoide/Downloads/VSCO-2-CE-1.1.0/sf2\" \n"
     ]
    },
    {
     "name": "stderr",
     "output_type": "stream",
     "text": [
      "\"opcode not supported: ampegdynamic (1)\"\n"
     ]
    },
    {
     "name": "stdout",
     "output_type": "stream",
     "text": [
      "Loading file /Users/nandoide/Downloads/VSCO-2-CE-1.1.0/ViolinEnsSpic.sfz...\n",
      "File loaded\n",
      "Saving file /Users/nandoide/Downloads/VSCO-2-CE-1.1.0/sf2/ViolinEnsSpic.sf2 ...\n",
      "done\n",
      "/Users/nandoide/Downloads/VSCO-2-CE-1.1.0/ViolinEnsPizz.sfz\n",
      " /Applications/polyphone.app/Contents/MacOS/polyphone -1 -i \"/Users/nandoide/Downloads/VSCO-2-CE-1.1.0/ViolinEnsPizz.sfz\" -d \"/Users/nandoide/Downloads/VSCO-2-CE-1.1.0/sf2\" \n"
     ]
    },
    {
     "name": "stderr",
     "output_type": "stream",
     "text": [
      "\"opcode not supported: ampegdynamic (1)\"\n",
      "\"opcode not supported: seqlength (2)\"\n",
      "\"opcode not supported: seqposition (1)\"\n",
      "\"opcode not supported: seqlength (2)\"\n",
      "\"opcode not supported: seqposition (2)\"\n"
     ]
    },
    {
     "name": "stdout",
     "output_type": "stream",
     "text": [
      "Loading file /Users/nandoide/Downloads/VSCO-2-CE-1.1.0/ViolinEnsPizz.sfz...\n",
      "File loaded\n",
      "Saving file /Users/nandoide/Downloads/VSCO-2-CE-1.1.0/sf2/ViolinEnsPizz.sf2 ...\n",
      "done\n",
      "/Users/nandoide/Downloads/VSCO-2-CE-1.1.0/TromboneVib.sfz\n",
      " /Applications/polyphone.app/Contents/MacOS/polyphone -1 -i \"/Users/nandoide/Downloads/VSCO-2-CE-1.1.0/TromboneVib.sfz\" -d \"/Users/nandoide/Downloads/VSCO-2-CE-1.1.0/sf2\" \n"
     ]
    },
    {
     "name": "stderr",
     "output_type": "stream",
     "text": [
      "\"opcode not supported: ampegdynamic (1)\"\n",
      "\"opcode not supported: lorand (0.0)\"\n",
      "\"opcode not supported: hirand (0.5)\"\n",
      "\"opcode not supported: lorand (0.5)\"\n",
      "\"opcode not supported: hirand (1.0)\"\n"
     ]
    },
    {
     "name": "stdout",
     "output_type": "stream",
     "text": [
      "Loading file /Users/nandoide/Downloads/VSCO-2-CE-1.1.0/TromboneVib.sfz...\n",
      "File loaded\n",
      "Saving file /Users/nandoide/Downloads/VSCO-2-CE-1.1.0/sf2/TromboneVib.sf2 ...\n",
      "done\n",
      "/Users/nandoide/Downloads/VSCO-2-CE-1.1.0/OboeSusVib.sfz\n",
      " /Applications/polyphone.app/Contents/MacOS/polyphone -1 -i \"/Users/nandoide/Downloads/VSCO-2-CE-1.1.0/OboeSusVib.sfz\" -d \"/Users/nandoide/Downloads/VSCO-2-CE-1.1.0/sf2\" \n",
      "Loading file /Users/nandoide/Downloads/VSCO-2-CE-1.1.0/OboeSusVib.sfz...\n",
      "File loaded\n",
      "Saving file /Users/nandoide/Downloads/VSCO-2-CE-1.1.0/sf2/OboeSusVib.sf2 ...\n"
     ]
    },
    {
     "name": "stderr",
     "output_type": "stream",
     "text": [
      "\"opcode not supported: ampegdynamic (1)\"\n",
      "\"opcode not supported: ampegdynamic (1)\"\n"
     ]
    },
    {
     "name": "stdout",
     "output_type": "stream",
     "text": [
      "done\n",
      "/Users/nandoide/Downloads/VSCO-2-CE-1.1.0/ClarinetStac.sfz\n",
      " /Applications/polyphone.app/Contents/MacOS/polyphone -1 -i \"/Users/nandoide/Downloads/VSCO-2-CE-1.1.0/ClarinetStac.sfz\" -d \"/Users/nandoide/Downloads/VSCO-2-CE-1.1.0/sf2\" \n",
      "Loading file /Users/nandoide/Downloads/VSCO-2-CE-1.1.0/ClarinetStac.sfz...\n",
      "File loaded\n",
      "Saving file /Users/nandoide/Downloads/VSCO-2-CE-1.1.0/sf2/ClarinetStac.sf2 ...\n",
      "done\n",
      "/Users/nandoide/Downloads/VSCO-2-CE-1.1.0/ContrabassSpic.sfz\n",
      " /Applications/polyphone.app/Contents/MacOS/polyphone -1 -i \"/Users/nandoide/Downloads/VSCO-2-CE-1.1.0/ContrabassSpic.sfz\" -d \"/Users/nandoide/Downloads/VSCO-2-CE-1.1.0/sf2\" \n"
     ]
    },
    {
     "name": "stderr",
     "output_type": "stream",
     "text": [
      "\"opcode not supported: ampegdynamic (1)\"\n",
      "\"opcode not supported: lorand (0.0)\"\n",
      "\"opcode not supported: hirand (0.5)\"\n",
      "\"opcode not supported: lorand (0.5)\"\n",
      "\"opcode not supported: hirand (1.0)\"\n"
     ]
    },
    {
     "name": "stdout",
     "output_type": "stream",
     "text": [
      "Loading file /Users/nandoide/Downloads/VSCO-2-CE-1.1.0/ContrabassSpic.sfz...\n",
      "File loaded\n",
      "Saving file /Users/nandoide/Downloads/VSCO-2-CE-1.1.0/sf2/ContrabassSpic.sf2 ...\n",
      "done\n",
      "/Users/nandoide/Downloads/VSCO-2-CE-1.1.0/ContrabassPizz.sfz\n",
      " /Applications/polyphone.app/Contents/MacOS/polyphone -1 -i \"/Users/nandoide/Downloads/VSCO-2-CE-1.1.0/ContrabassPizz.sfz\" -d \"/Users/nandoide/Downloads/VSCO-2-CE-1.1.0/sf2\" \n",
      "Loading file /Users/nandoide/Downloads/VSCO-2-CE-1.1.0/ContrabassPizz.sfz...\n"
     ]
    },
    {
     "name": "stderr",
     "output_type": "stream",
     "text": [
      "\"opcode not supported: ampegdynamic (1)\"\n",
      "\"opcode not supported: lorand (0.0)\"\n",
      "\"opcode not supported: hirand (0.5)\"\n",
      "\"opcode not supported: lorand (0.5)\"\n",
      "\"opcode not supported: hirand (1.0)\"\n",
      "\"opcode not supported: ampegdynamic (1)\"\n",
      "\"opcode not supported: lorand (0.0)\"\n",
      "\"opcode not supported: hirand (0.5)\"\n",
      "\"opcode not supported: lorand (0.5)\"\n",
      "\"opcode not supported: hirand (1.0)\"\n"
     ]
    },
    {
     "name": "stdout",
     "output_type": "stream",
     "text": [
      "File loaded\n",
      "Saving file /Users/nandoide/Downloads/VSCO-2-CE-1.1.0/sf2/ContrabassPizz.sf2 ...\n",
      "done\n",
      "/Users/nandoide/Downloads/VSCO-2-CE-1.1.0/FHornMute.sfz\n",
      " /Applications/polyphone.app/Contents/MacOS/polyphone -1 -i \"/Users/nandoide/Downloads/VSCO-2-CE-1.1.0/FHornMute.sfz\" -d \"/Users/nandoide/Downloads/VSCO-2-CE-1.1.0/sf2\" \n",
      "Loading file /Users/nandoide/Downloads/VSCO-2-CE-1.1.0/FHornMute.sfz...\n",
      "File loaded\n",
      "Saving file /Users/nandoide/Downloads/VSCO-2-CE-1.1.0/sf2/FHornMute.sf2 ...\n",
      "done\n",
      "/Users/nandoide/Downloads/VSCO-2-CE-1.1.0/ClarinetSus.sfz\n",
      " /Applications/polyphone.app/Contents/MacOS/polyphone -1 -i \"/Users/nandoide/Downloads/VSCO-2-CE-1.1.0/ClarinetSus.sfz\" -d \"/Users/nandoide/Downloads/VSCO-2-CE-1.1.0/sf2\" \n"
     ]
    },
    {
     "name": "stderr",
     "output_type": "stream",
     "text": [
      "\"opcode not supported: ampegdynamic (1)\"\n"
     ]
    },
    {
     "name": "stdout",
     "output_type": "stream",
     "text": [
      "Loading file /Users/nandoide/Downloads/VSCO-2-CE-1.1.0/ClarinetSus.sfz...\n",
      "File loaded\n",
      "Saving file /Users/nandoide/Downloads/VSCO-2-CE-1.1.0/sf2/ClarinetSus.sf2 ...\n",
      "done\n",
      "/Users/nandoide/Downloads/VSCO-2-CE-1.1.0/Flute-KS.sfz\n",
      " /Applications/polyphone.app/Contents/MacOS/polyphone -1 -i \"/Users/nandoide/Downloads/VSCO-2-CE-1.1.0/Flute-KS.sfz\" -d \"/Users/nandoide/Downloads/VSCO-2-CE-1.1.0/sf2\" \n"
     ]
    },
    {
     "name": "stderr",
     "output_type": "stream",
     "text": [
      "\"opcode not supported: ampegdynamic (1)\"\n",
      "\"opcode not supported: seqlength (1)\"\n",
      "\"opcode not supported: seqposition (1)\"\n"
     ]
    },
    {
     "name": "stdout",
     "output_type": "stream",
     "text": [
      "Loading file /Users/nandoide/Downloads/VSCO-2-CE-1.1.0/Flute-KS.sfz...\n",
      "File loaded\n",
      "Saving file /Users/nandoide/Downloads/VSCO-2-CE-1.1.0/sf2/Flute-KS.sf2 ...\n",
      "done\n",
      "/Users/nandoide/Downloads/VSCO-2-CE-1.1.0/TromboneSus.sfz\n",
      " /Applications/polyphone.app/Contents/MacOS/polyphone -1 -i \"/Users/nandoide/Downloads/VSCO-2-CE-1.1.0/TromboneSus.sfz\" -d \"/Users/nandoide/Downloads/VSCO-2-CE-1.1.0/sf2\" \n"
     ]
    },
    {
     "name": "stderr",
     "output_type": "stream",
     "text": [
      "\"opcode not supported: swdefault (c2)\"\n",
      "\"opcode not supported: swlokey (c2)\"\n",
      "\"opcode not supported: swhikey (d#2)\"\n",
      "\"opcode not supported: swlast (c2)\"\n",
      "\"opcode not supported: swlabel (C2 Sustain Non-Vibrato)\"\n",
      "\"opcode not supported: ampegdynamic (1)\"\n",
      "\"opcode not supported: swlokey (c2)\"\n",
      "\"opcode not supported: swhikey (d#2)\"\n",
      "\"opcode not supported: swlast (c#2)\"\n",
      "\"opcode not supported: swlabel (C#2 Sustain Vibrato)\"\n",
      "\"opcode not supported: ampegdynamic (1)\"\n",
      "\"opcode not supported: swlokey (c2)\"\n",
      "\"opcode not supported: swhikey (d#2)\"\n",
      "\"opcode not supported: swlast (d2)\"\n",
      "\"opcode not supported: swlabel (D2 Expression Vibrato)\"\n",
      "\"opcode not supported: ampegdynamic (1)\"\n",
      "\"opcode not supported: swlokey (c2)\"\n",
      "\"opcode not supported: swhikey (d#2)\"\n",
      "\"opcode not supported: swlast (d#2)\"\n",
      "\"opcode not supported: swlabel (D#2 Staccato)\"\n",
      "\"opcode not supported: ampegdynamic (1)\"\n",
      "\"opcode not supported: lorand (0.0)\"\n",
      "\"opcode not supported: hirand (0.5)\"\n",
      "\"opcode not supported: swlokey (c2)\"\n",
      "\"opcode not supported: swhikey (d#2)\"\n",
      "\"opcode not supported: swlast (d#2)\"\n",
      "\"opcode not supported: swlabel (D#2 Staccato)\"\n",
      "\"opcode not supported: ampegdynamic (1)\"\n",
      "\"opcode not supported: lorand (0.5)\"\n",
      "\"opcode not supported: hirand (1.0)\"\n"
     ]
    },
    {
     "name": "stdout",
     "output_type": "stream",
     "text": [
      "Loading file /Users/nandoide/Downloads/VSCO-2-CE-1.1.0/TromboneSus.sfz...\n",
      "File loaded\n",
      "Saving file /Users/nandoide/Downloads/VSCO-2-CE-1.1.0/sf2/TromboneSus.sf2 ...\n",
      "done\n",
      "/Users/nandoide/Downloads/VSCO-2-CE-1.1.0/FHornSus.sfz\n",
      " /Applications/polyphone.app/Contents/MacOS/polyphone -1 -i \"/Users/nandoide/Downloads/VSCO-2-CE-1.1.0/FHornSus.sfz\" -d \"/Users/nandoide/Downloads/VSCO-2-CE-1.1.0/sf2\" \n"
     ]
    },
    {
     "name": "stderr",
     "output_type": "stream",
     "text": [
      "\"opcode not supported: ampegdynamic (1)\"\n"
     ]
    },
    {
     "name": "stdout",
     "output_type": "stream",
     "text": [
      "Loading file /Users/nandoide/Downloads/VSCO-2-CE-1.1.0/FHornSus.sfz...\n",
      "File loaded\n",
      "Saving file /Users/nandoide/Downloads/VSCO-2-CE-1.1.0/sf2/FHornSus.sf2 ...\n",
      "done\n",
      "/Users/nandoide/Downloads/VSCO-2-CE-1.1.0/OboeStac.sfz\n",
      " /Applications/polyphone.app/Contents/MacOS/polyphone -1 -i \"/Users/nandoide/Downloads/VSCO-2-CE-1.1.0/OboeStac.sfz\" -d \"/Users/nandoide/Downloads/VSCO-2-CE-1.1.0/sf2\" \n"
     ]
    },
    {
     "name": "stderr",
     "output_type": "stream",
     "text": [
      "\"opcode not supported: ampegdynamic (1)\"\n",
      "\"opcode not supported: ampegdynamic (1)\"\n",
      "\"opcode not supported: lorand (0.0)\"\n",
      "\"opcode not supported: hirand (0.5)\"\n",
      "\"opcode not supported: lorand (0.5)\"\n",
      "\"opcode not supported: hirand (1.0)\"\n"
     ]
    },
    {
     "name": "stdout",
     "output_type": "stream",
     "text": [
      "Loading file /Users/nandoide/Downloads/VSCO-2-CE-1.1.0/OboeStac.sfz...\n",
      "File loaded\n",
      "Saving file /Users/nandoide/Downloads/VSCO-2-CE-1.1.0/sf2/OboeStac.sf2 ...\n",
      "done\n",
      "/Users/nandoide/Downloads/VSCO-2-CE-1.1.0/TubaStac.sfz\n",
      " /Applications/polyphone.app/Contents/MacOS/polyphone -1 -i \"/Users/nandoide/Downloads/VSCO-2-CE-1.1.0/TubaStac.sfz\" -d \"/Users/nandoide/Downloads/VSCO-2-CE-1.1.0/sf2\" \n",
      "Loading file /Users/nandoide/Downloads/VSCO-2-CE-1.1.0/TubaStac.sfz...\n",
      "File loaded\n",
      "Saving file /Users/nandoide/Downloads/VSCO-2-CE-1.1.0/sf2/TubaStac.sf2 ...\n",
      "done\n",
      "/Users/nandoide/Downloads/VSCO-2-CE-1.1.0/TubaSus.sfz\n",
      " /Applications/polyphone.app/Contents/MacOS/polyphone -1 -i \"/Users/nandoide/Downloads/VSCO-2-CE-1.1.0/TubaSus.sfz\" -d \"/Users/nandoide/Downloads/VSCO-2-CE-1.1.0/sf2\" \n"
     ]
    },
    {
     "name": "stderr",
     "output_type": "stream",
     "text": [
      "\"opcode not supported: ampegdynamic (1)\"\n",
      "\"opcode not supported: seqlength (4)\"\n",
      "\"opcode not supported: seqposition (1)\"\n",
      "\"opcode not supported: seqlength (4)\"\n",
      "\"opcode not supported: seqposition (2)\"\n",
      "\"opcode not supported: seqlength (4)\"\n",
      "\"opcode not supported: seqposition (3)\"\n",
      "\"opcode not supported: seqlength (4)\"\n",
      "\"opcode not supported: seqposition (4)\"\n"
     ]
    },
    {
     "name": "stdout",
     "output_type": "stream",
     "text": [
      "Loading file /Users/nandoide/Downloads/VSCO-2-CE-1.1.0/TubaSus.sfz...\n",
      "File loaded\n",
      "Saving file /Users/nandoide/Downloads/VSCO-2-CE-1.1.0/sf2/TubaSus.sf2 ...\n",
      "done\n",
      "/Users/nandoide/Downloads/VSCO-2-CE-1.1.0/OrganQuiet.sfz\n",
      " /Applications/polyphone.app/Contents/MacOS/polyphone -1 -i \"/Users/nandoide/Downloads/VSCO-2-CE-1.1.0/OrganQuiet.sfz\" -d \"/Users/nandoide/Downloads/VSCO-2-CE-1.1.0/sf2\" \n"
     ]
    },
    {
     "name": "stderr",
     "output_type": "stream",
     "text": [
      "\"opcode not supported: ampegdynamic (1)\"\n"
     ]
    },
    {
     "name": "stdout",
     "output_type": "stream",
     "text": [
      "Loading file /Users/nandoide/Downloads/VSCO-2-CE-1.1.0/OrganQuiet.sfz...\n",
      "File loaded\n",
      "Saving file /Users/nandoide/Downloads/VSCO-2-CE-1.1.0/sf2/OrganQuiet.sf2 ...\n",
      "done\n",
      "/Users/nandoide/Downloads/VSCO-2-CE-1.1.0/FluteExpVib.sfz\n",
      " /Applications/polyphone.app/Contents/MacOS/polyphone -1 -i \"/Users/nandoide/Downloads/VSCO-2-CE-1.1.0/FluteExpVib.sfz\" -d \"/Users/nandoide/Downloads/VSCO-2-CE-1.1.0/sf2\" \n"
     ]
    },
    {
     "name": "stderr",
     "output_type": "stream",
     "text": [
      "\"opcode not supported: ampegdynamic (1)\"\n",
      "\"opcode not supported: seqlength (1)\"\n",
      "\"opcode not supported: seqposition (1)\"\n"
     ]
    },
    {
     "name": "stdout",
     "output_type": "stream",
     "text": [
      "Loading file /Users/nandoide/Downloads/VSCO-2-CE-1.1.0/FluteExpVib.sfz...\n",
      "File loaded\n",
      "Saving file /Users/nandoide/Downloads/VSCO-2-CE-1.1.0/sf2/FluteExpVib.sf2 ...\n",
      "done\n",
      "/Users/nandoide/Downloads/VSCO-2-CE-1.1.0/Clarinet-KS.sfz\n",
      " /Applications/polyphone.app/Contents/MacOS/polyphone -1 -i \"/Users/nandoide/Downloads/VSCO-2-CE-1.1.0/Clarinet-KS.sfz\" -d \"/Users/nandoide/Downloads/VSCO-2-CE-1.1.0/sf2\" \n"
     ]
    },
    {
     "name": "stderr",
     "output_type": "stream",
     "text": [
      "\"opcode not supported: ampegdynamic (1)\"\n"
     ]
    },
    {
     "name": "stdout",
     "output_type": "stream",
     "text": [
      "Loading file /Users/nandoide/Downloads/VSCO-2-CE-1.1.0/Clarinet-KS.sfz...\n",
      "File loaded\n",
      "Saving file /Users/nandoide/Downloads/VSCO-2-CE-1.1.0/sf2/Clarinet-KS.sf2 ...\n",
      "done\n",
      "/Users/nandoide/Downloads/VSCO-2-CE-1.1.0/TromboneStac.sfz\n",
      " /Applications/polyphone.app/Contents/MacOS/polyphone -1 -i \"/Users/nandoide/Downloads/VSCO-2-CE-1.1.0/TromboneStac.sfz\" -d \"/Users/nandoide/Downloads/VSCO-2-CE-1.1.0/sf2\" \n"
     ]
    },
    {
     "name": "stderr",
     "output_type": "stream",
     "text": [
      "\"opcode not supported: swdefault (c2)\"\n",
      "\"opcode not supported: swlokey (c2)\"\n",
      "\"opcode not supported: swhikey (c#2)\"\n",
      "\"opcode not supported: swlast (c2)\"\n",
      "\"opcode not supported: swlabel (C2 Sustain Long)\"\n",
      "\"opcode not supported: ampegdynamic (1)\"\n",
      "\"opcode not supported: seqlength (1)\"\n",
      "\"opcode not supported: seqposition (1)\"\n",
      "\"opcode not supported: swlokey (c2)\"\n",
      "\"opcode not supported: swhikey (c#2)\"\n",
      "\"opcode not supported: swlast (c#2)\"\n",
      "\"opcode not supported: swlabel (C#2 Staccato)\"\n",
      "\"opcode not supported: ampegdynamic (1)\"\n",
      "\"opcode not supported: lorand (0.0)\"\n",
      "\"opcode not supported: hirand (0.5)\"\n",
      "\"opcode not supported: swlokey (c2)\"\n",
      "\"opcode not supported: swhikey (c#2)\"\n",
      "\"opcode not supported: swlast (c#2)\"\n",
      "\"opcode not supported: swlabel (C#2 Staccato)\"\n",
      "\"opcode not supported: ampegdynamic (1)\"\n",
      "\"opcode not supported: lorand (0.5)\"\n",
      "\"opcode not supported: hirand (1.0)\"\n"
     ]
    },
    {
     "name": "stdout",
     "output_type": "stream",
     "text": [
      "Loading file /Users/nandoide/Downloads/VSCO-2-CE-1.1.0/TromboneStac.sfz...\n",
      "File loaded\n",
      "Saving file /Users/nandoide/Downloads/VSCO-2-CE-1.1.0/sf2/TromboneStac.sf2 ...\n",
      "done\n",
      "/Users/nandoide/Downloads/VSCO-2-CE-1.1.0/ContrabassTrem.sfz\n",
      " /Applications/polyphone.app/Contents/MacOS/polyphone -1 -i \"/Users/nandoide/Downloads/VSCO-2-CE-1.1.0/ContrabassTrem.sfz\" -d \"/Users/nandoide/Downloads/VSCO-2-CE-1.1.0/sf2\" \n"
     ]
    },
    {
     "name": "stderr",
     "output_type": "stream",
     "text": [
      "\"opcode not supported: ampegdynamic (1)\"\n",
      "\"opcode not supported: lorand (0.0)\"\n",
      "\"opcode not supported: hirand (0.5)\"\n",
      "\"opcode not supported: lorand (0.5)\"\n",
      "\"opcode not supported: hirand (1.0)\"\n"
     ]
    },
    {
     "name": "stdout",
     "output_type": "stream",
     "text": [
      "Loading file /Users/nandoide/Downloads/VSCO-2-CE-1.1.0/ContrabassTrem.sfz...\n",
      "File loaded\n",
      "Saving file /Users/nandoide/Downloads/VSCO-2-CE-1.1.0/sf2/ContrabassTrem.sf2 ...\n",
      "done\n",
      "/Users/nandoide/Downloads/VSCO-2-CE-1.1.0/ViolinEns-KS.sfz\n",
      " /Applications/polyphone.app/Contents/MacOS/polyphone -1 -i \"/Users/nandoide/Downloads/VSCO-2-CE-1.1.0/ViolinEns-KS.sfz\" -d \"/Users/nandoide/Downloads/VSCO-2-CE-1.1.0/sf2\" \n"
     ]
    },
    {
     "name": "stderr",
     "output_type": "stream",
     "text": [
      "\"opcode not supported: ampegdynamic (1)\"\n",
      "\"opcode not supported: seqlength (1)\"\n",
      "\"opcode not supported: seqposition (1)\"\n"
     ]
    },
    {
     "name": "stdout",
     "output_type": "stream",
     "text": [
      "Loading file /Users/nandoide/Downloads/VSCO-2-CE-1.1.0/ViolinEns-KS.sfz...\n",
      "File loaded\n",
      "Saving file /Users/nandoide/Downloads/VSCO-2-CE-1.1.0/sf2/ViolinEns-KS.sf2 ...\n",
      "done\n",
      "/Users/nandoide/Downloads/VSCO-2-CE-1.1.0/ContrabassSusVB-Quiet.sfz\n",
      " /Applications/polyphone.app/Contents/MacOS/polyphone -1 -i \"/Users/nandoide/Downloads/VSCO-2-CE-1.1.0/ContrabassSusVB-Quiet.sfz\" -d \"/Users/nandoide/Downloads/VSCO-2-CE-1.1.0/sf2\" \n"
     ]
    },
    {
     "name": "stderr",
     "output_type": "stream",
     "text": [
      "\"opcode not supported: swdefault (c2)\"\n",
      "\"opcode not supported: swlokey (c2)\"\n",
      "\"opcode not supported: swhikey (d#2)\"\n",
      "\"opcode not supported: swlast (c2)\"\n",
      "\"opcode not supported: swlabel (C2 Sustain Vibrato)\"\n",
      "\"opcode not supported: ampegdynamic (1)\"\n",
      "\"opcode not supported: swlokey (c2)\"\n",
      "\"opcode not supported: swhikey (d#2)\"\n",
      "\"opcode not supported: swlast (c#2)\"\n",
      "\"opcode not supported: swlabel (C#2 Tremolo)\"\n",
      "\"opcode not supported: ampegdynamic (1)\"\n",
      "\"opcode not supported: swlokey (c2)\"\n",
      "\"opcode not supported: swhikey (d#2)\"\n",
      "\"opcode not supported: swlast (d2)\"\n",
      "\"opcode not supported: swlabel (D2 Spiccato)\"\n",
      "\"opcode not supported: ampegdynamic (1)\"\n",
      "\"opcode not supported: seqlength (2)\"\n",
      "\"opcode not supported: seqposition (1)\"\n",
      "\"opcode not supported: swlokey (c2)\"\n",
      "\"opcode not supported: swhikey (d#2)\"\n",
      "\"opcode not supported: swlast (d2)\"\n",
      "\"opcode not supported: swlabel (D2 Spiccato)\"\n",
      "\"opcode not supported: ampegdynamic (1)\"\n",
      "\"opcode not supported: seqlength (2)\"\n",
      "\"opcode not supported: seqposition (2)\"\n",
      "\"opcode not supported: swlokey (c2)\"\n",
      "\"opcode not supported: swhikey (d#2)\"\n",
      "\"opcode not supported: swlast (d#2)\"\n",
      "\"opcode not supported: swlabel (D#2 Pizzicato)\"\n",
      "\"opcode not supported: ampegdynamic (1)\"\n",
      "\"opcode not supported: lorand (0.0)\"\n",
      "\"opcode not supported: hirand (0.5)\"\n",
      "\"opcode not supported: swlokey (c2)\"\n",
      "\"opcode not supported: swhikey (d#2)\"\n",
      "\"opcode not supported: swlast (d#2)\"\n",
      "\"opcode not supported: swlabel (D#2 Pizzicato)\"\n",
      "\"opcode not supported: ampegdynamic (1)\"\n",
      "\"opcode not supported: lorand (0.5)\"\n",
      "\"opcode not supported: hirand (1.0)\"\n"
     ]
    },
    {
     "name": "stdout",
     "output_type": "stream",
     "text": [
      "Loading file /Users/nandoide/Downloads/VSCO-2-CE-1.1.0/ContrabassSusVB-Quiet.sfz...\n",
      "File loaded\n",
      "Saving file /Users/nandoide/Downloads/VSCO-2-CE-1.1.0/sf2/ContrabassSusVB-Quiet.sf2 ...\n",
      "done\n",
      "/Users/nandoide/Downloads/VSCO-2-CE-1.1.0/OrganQuietPedal.sfz\n",
      " /Applications/polyphone.app/Contents/MacOS/polyphone -1 -i \"/Users/nandoide/Downloads/VSCO-2-CE-1.1.0/OrganQuietPedal.sfz\" -d \"/Users/nandoide/Downloads/VSCO-2-CE-1.1.0/sf2\" \n"
     ]
    },
    {
     "name": "stderr",
     "output_type": "stream",
     "text": [
      "\"opcode not supported: ampegdynamic (1)\"\n"
     ]
    },
    {
     "name": "stdout",
     "output_type": "stream",
     "text": [
      "Loading file /Users/nandoide/Downloads/VSCO-2-CE-1.1.0/OrganQuietPedal.sfz...\n",
      "File loaded\n",
      "Saving file /Users/nandoide/Downloads/VSCO-2-CE-1.1.0/sf2/OrganQuietPedal.sf2 ...\n",
      "done\n",
      "/Users/nandoide/Downloads/VSCO-2-CE-1.1.0/FHornStac.sfz\n",
      " /Applications/polyphone.app/Contents/MacOS/polyphone -1 -i \"/Users/nandoide/Downloads/VSCO-2-CE-1.1.0/FHornStac.sfz\" -d \"/Users/nandoide/Downloads/VSCO-2-CE-1.1.0/sf2\" \n"
     ]
    },
    {
     "name": "stderr",
     "output_type": "stream",
     "text": [
      "\"opcode not supported: ampegdynamic (1)\"\n",
      "\"opcode not supported: seqlength (1)\"\n",
      "\"opcode not supported: seqposition (1)\"\n"
     ]
    },
    {
     "name": "stdout",
     "output_type": "stream",
     "text": [
      "Loading file /Users/nandoide/Downloads/VSCO-2-CE-1.1.0/FHornStac.sfz...\n",
      "File loaded\n",
      "Saving file /Users/nandoide/Downloads/VSCO-2-CE-1.1.0/sf2/FHornStac.sf2 ...\n",
      "done\n",
      "/Users/nandoide/Downloads/VSCO-2-CE-1.1.0/Tuba-KS.sfz\n",
      " /Applications/polyphone.app/Contents/MacOS/polyphone -1 -i \"/Users/nandoide/Downloads/VSCO-2-CE-1.1.0/Tuba-KS.sfz\" -d \"/Users/nandoide/Downloads/VSCO-2-CE-1.1.0/sf2\" \n"
     ]
    },
    {
     "name": "stderr",
     "output_type": "stream",
     "text": [
      "\"opcode not supported: ampegdynamic (1)\"\n",
      "\"opcode not supported: lorand (0.0)\"\n",
      "\"opcode not supported: hirand (0.5)\"\n",
      "\"opcode not supported: lorand (0.5)\"\n",
      "\"opcode not supported: hirand (1.0)\"\n"
     ]
    },
    {
     "name": "stdout",
     "output_type": "stream",
     "text": [
      "Loading file /Users/nandoide/Downloads/VSCO-2-CE-1.1.0/Tuba-KS.sfz...\n",
      "File loaded\n",
      "Saving file /Users/nandoide/Downloads/VSCO-2-CE-1.1.0/sf2/Tuba-KS.sf2 ...\n",
      "done\n",
      "/Users/nandoide/Downloads/VSCO-2-CE-1.1.0/OboeSusNV.sfz\n",
      " /Applications/polyphone.app/Contents/MacOS/polyphone -1 -i \"/Users/nandoide/Downloads/VSCO-2-CE-1.1.0/OboeSusNV.sfz\" -d \"/Users/nandoide/Downloads/VSCO-2-CE-1.1.0/sf2\" \n"
     ]
    },
    {
     "name": "stderr",
     "output_type": "stream",
     "text": [
      "\"opcode not supported: swdefault (c6)\"\n",
      "\"opcode not supported: swlokey (c6)\"\n",
      "\"opcode not supported: swhikey (c#6)\"\n",
      "\"opcode not supported: swlast (c6)\"\n",
      "\"opcode not supported: swlabel (C6 Sustain)\"\n",
      "\"opcode not supported: ampegdynamic (1)\"\n",
      "\"opcode not supported: swdefault (c6)\"\n",
      "\"opcode not supported: swlokey (c6)\"\n",
      "\"opcode not supported: swhikey (c#6)\"\n",
      "\"opcode not supported: swlast (c#6)\"\n",
      "\"opcode not supported: swlabel (C#6 Staccato)\"\n",
      "\"opcode not supported: ampegdynamic (1)\"\n",
      "\"opcode not supported: seqlength (4)\"\n",
      "\"opcode not supported: seqposition (1)\"\n",
      "\"opcode not supported: swdefault (c6)\"\n",
      "\"opcode not supported: swlokey (c6)\"\n",
      "\"opcode not supported: swhikey (c#6)\"\n",
      "\"opcode not supported: swlast (c#6)\"\n",
      "\"opcode not supported: swlabel (C#6 Staccato)\"\n",
      "\"opcode not supported: ampegdynamic (1)\"\n",
      "\"opcode not supported: seqlength (4)\"\n",
      "\"opcode not supported: seqposition (2)\"\n",
      "\"opcode not supported: swdefault (c6)\"\n",
      "\"opcode not supported: swlokey (c6)\"\n",
      "\"opcode not supported: swhikey (c#6)\"\n",
      "\"opcode not supported: swlast (c#6)\"\n",
      "\"opcode not supported: swlabel (C#6 Staccato)\"\n",
      "\"opcode not supported: ampegdynamic (1)\"\n",
      "\"opcode not supported: seqlength (4)\"\n",
      "\"opcode not supported: seqposition (3)\"\n",
      "\"opcode not supported: swdefault (c6)\"\n",
      "\"opcode not supported: swlokey (c6)\"\n",
      "\"opcode not supported: swhikey (c#6)\"\n",
      "\"opcode not supported: swlast (c#6)\"\n",
      "\"opcode not supported: swlabel (C#6 Staccato)\"\n",
      "\"opcode not supported: ampegdynamic (1)\"\n",
      "\"opcode not supported: seqlength (4)\"\n",
      "\"opcode not supported: seqposition (4)\"\n"
     ]
    },
    {
     "name": "stdout",
     "output_type": "stream",
     "text": [
      "Loading file /Users/nandoide/Downloads/VSCO-2-CE-1.1.0/OboeSusNV.sfz...\n",
      "File loaded\n",
      "Saving file /Users/nandoide/Downloads/VSCO-2-CE-1.1.0/sf2/OboeSusNV.sf2 ...\n",
      "done\n",
      "/Users/nandoide/Downloads/VSCO-2-CE-1.1.0/FluteStac.sfz\n",
      " /Applications/polyphone.app/Contents/MacOS/polyphone -1 -i \"/Users/nandoide/Downloads/VSCO-2-CE-1.1.0/FluteStac.sfz\" -d \"/Users/nandoide/Downloads/VSCO-2-CE-1.1.0/sf2\" \n"
     ]
    },
    {
     "name": "stderr",
     "output_type": "stream",
     "text": [
      "\"opcode not supported: ampegdynamic (1)\"\n"
     ]
    },
    {
     "name": "stdout",
     "output_type": "stream",
     "text": [
      "Loading file /Users/nandoide/Downloads/VSCO-2-CE-1.1.0/FluteStac.sfz...\n",
      "File loaded\n",
      "Saving file /Users/nandoide/Downloads/VSCO-2-CE-1.1.0/sf2/FluteStac.sf2 ...\n",
      "done\n",
      "/Users/nandoide/Downloads/VSCO-2-CE-1.1.0/BassoonSus.sfz\n",
      " /Applications/polyphone.app/Contents/MacOS/polyphone -1 -i \"/Users/nandoide/Downloads/VSCO-2-CE-1.1.0/BassoonSus.sfz\" -d \"/Users/nandoide/Downloads/VSCO-2-CE-1.1.0/sf2\" \n",
      "Loading file /Users/nandoide/Downloads/VSCO-2-CE-1.1.0/BassoonSus.sfz...\n",
      "File loaded\n",
      "Saving file /Users/nandoide/Downloads/VSCO-2-CE-1.1.0/sf2/BassoonSus.sf2 ...\n"
     ]
    },
    {
     "name": "stderr",
     "output_type": "stream",
     "text": [
      "\"opcode not supported: ampegdynamic (1)\"\n",
      "\"opcode not supported: lorand (0.0)\"\n",
      "\"opcode not supported: hirand (0.5)\"\n",
      "\"opcode not supported: lorand (0.5)\"\n",
      "\"opcode not supported: hirand (1.0)\"\n",
      "\"opcode not supported: ampegdynamic (1)\"\n"
     ]
    },
    {
     "name": "stdout",
     "output_type": "stream",
     "text": [
      "done\n",
      "/Users/nandoide/Downloads/VSCO-2-CE-1.1.0/PiccoloSus.sfz\n",
      " /Applications/polyphone.app/Contents/MacOS/polyphone -1 -i \"/Users/nandoide/Downloads/VSCO-2-CE-1.1.0/PiccoloSus.sfz\" -d \"/Users/nandoide/Downloads/VSCO-2-CE-1.1.0/sf2\" \n",
      "Loading file /Users/nandoide/Downloads/VSCO-2-CE-1.1.0/PiccoloSus.sfz...\n",
      "File loaded\n",
      "Saving file /Users/nandoide/Downloads/VSCO-2-CE-1.1.0/sf2/PiccoloSus.sf2 ...\n",
      "done\n",
      "/Users/nandoide/Downloads/VSCO-2-CE-1.1.0/BassoonStac.sfz\n",
      " /Applications/polyphone.app/Contents/MacOS/polyphone -1 -i \"/Users/nandoide/Downloads/VSCO-2-CE-1.1.0/BassoonStac.sfz\" -d \"/Users/nandoide/Downloads/VSCO-2-CE-1.1.0/sf2\" \n"
     ]
    },
    {
     "name": "stderr",
     "output_type": "stream",
     "text": [
      "\"opcode not supported: ampegdynamic (1)\"\n"
     ]
    },
    {
     "name": "stdout",
     "output_type": "stream",
     "text": [
      "Loading file /Users/nandoide/Downloads/VSCO-2-CE-1.1.0/BassoonStac.sfz...\n",
      "File loaded\n",
      "Saving file /Users/nandoide/Downloads/VSCO-2-CE-1.1.0/sf2/BassoonStac.sf2 ...\n",
      "done\n",
      "/Users/nandoide/Downloads/VSCO-2-CE-1.1.0/TrumpetSusVib.sfz\n",
      " /Applications/polyphone.app/Contents/MacOS/polyphone -1 -i \"/Users/nandoide/Downloads/VSCO-2-CE-1.1.0/TrumpetSusVib.sfz\" -d \"/Users/nandoide/Downloads/VSCO-2-CE-1.1.0/sf2\" \n"
     ]
    },
    {
     "name": "stderr",
     "output_type": "stream",
     "text": [
      "\"opcode not supported: ampegdynamic (1)\"\n",
      "\"opcode not supported: lorand (0.0)\"\n",
      "\"opcode not supported: hirand (0.5)\"\n",
      "\"opcode not supported: lorand (0.5)\"\n",
      "\"opcode not supported: hirand (1.0)\"\n"
     ]
    },
    {
     "name": "stdout",
     "output_type": "stream",
     "text": [
      "Loading file /Users/nandoide/Downloads/VSCO-2-CE-1.1.0/TrumpetSusVib.sfz...\n",
      "File loaded\n",
      "Saving file /Users/nandoide/Downloads/VSCO-2-CE-1.1.0/sf2/TrumpetSusVib.sf2 ...\n",
      "done\n",
      "/Users/nandoide/Downloads/VSCO-2-CE-1.1.0/SViolin-KS.sfz\n",
      " /Applications/polyphone.app/Contents/MacOS/polyphone -1 -i \"/Users/nandoide/Downloads/VSCO-2-CE-1.1.0/SViolin-KS.sfz\" -d \"/Users/nandoide/Downloads/VSCO-2-CE-1.1.0/sf2\" \n"
     ]
    },
    {
     "name": "stderr",
     "output_type": "stream",
     "text": [
      "\"opcode not supported: ampegdynamic (1)\"\n",
      "\"opcode not supported: seqlength (1)\"\n",
      "\"opcode not supported: seqposition (1)\"\n"
     ]
    },
    {
     "name": "stdout",
     "output_type": "stream",
     "text": [
      "Loading file /Users/nandoide/Downloads/VSCO-2-CE-1.1.0/SViolin-KS.sfz...\n",
      "File loaded\n",
      "Saving file /Users/nandoide/Downloads/VSCO-2-CE-1.1.0/sf2/SViolin-KS.sf2 ...\n",
      "done\n",
      "/Users/nandoide/Downloads/VSCO-2-CE-1.1.0/ViolaEns-KS.sfz\n",
      " /Applications/polyphone.app/Contents/MacOS/polyphone -1 -i \"/Users/nandoide/Downloads/VSCO-2-CE-1.1.0/ViolaEns-KS.sfz\" -d \"/Users/nandoide/Downloads/VSCO-2-CE-1.1.0/sf2\" \n"
     ]
    },
    {
     "name": "stderr",
     "output_type": "stream",
     "text": [
      "\"opcode not supported: swdefault (c2)\"\n",
      "\"opcode not supported: swlokey (c2)\"\n",
      "\"opcode not supported: swhikey (d#2)\"\n",
      "\"opcode not supported: swlast (c2)\"\n",
      "\"opcode not supported: swlabel (C2 Sustain Vibrato)\"\n",
      "\"opcode not supported: ampegdynamic (1)\"\n",
      "\"opcode not supported: swdefault (c2)\"\n",
      "\"opcode not supported: swlokey (c2)\"\n",
      "\"opcode not supported: swhikey (d#2)\"\n",
      "\"opcode not supported: swlast (c#2)\"\n",
      "\"opcode not supported: swlabel (C#2 Tremolo)\"\n",
      "\"opcode not supported: ampegdynamic (1)\"\n",
      "\"opcode not supported: seqlength (1)\"\n",
      "\"opcode not supported: seqposition (1)\"\n",
      "\"opcode not supported: swdefault (c2)\"\n",
      "\"opcode not supported: swlokey (c2)\"\n",
      "\"opcode not supported: swhikey (d#2)\"\n",
      "\"opcode not supported: swlast (d2)\"\n",
      "\"opcode not supported: swlabel (D2 Spiccato)\"\n",
      "\"opcode not supported: ampegdynamic (1)\"\n",
      "\"opcode not supported: seqlength (2)\"\n",
      "\"opcode not supported: seqposition (1)\"\n",
      "\"opcode not supported: swdefault (c2)\"\n",
      "\"opcode not supported: swlokey (c2)\"\n",
      "\"opcode not supported: swhikey (d#2)\"\n",
      "\"opcode not supported: swlast (d2)\"\n",
      "\"opcode not supported: swlabel (D2 Spiccato)\"\n",
      "\"opcode not supported: ampegdynamic (1)\"\n",
      "\"opcode not supported: seqlength (2)\"\n",
      "\"opcode not supported: seqposition (2)\"\n",
      "\"opcode not supported: swdefault (c2)\"\n",
      "\"opcode not supported: swlokey (c2)\"\n",
      "\"opcode not supported: swhikey (d#2)\"\n",
      "\"opcode not supported: swlast (d#2)\"\n",
      "\"opcode not supported: swlabel (D#2 Pizzicato)\"\n",
      "\"opcode not supported: ampegdynamic (1)\"\n",
      "\"opcode not supported: lorand (0.0)\"\n",
      "\"opcode not supported: hirand (0.5)\"\n",
      "\"opcode not supported: swdefault (c2)\"\n",
      "\"opcode not supported: swlokey (c2)\"\n",
      "\"opcode not supported: swhikey (d#2)\"\n",
      "\"opcode not supported: swlast (d#2)\"\n",
      "\"opcode not supported: swlabel (D#2 Pizzicato)\"\n",
      "\"opcode not supported: ampegdynamic (1)\"\n",
      "\"opcode not supported: lorand (0.5)\"\n",
      "\"opcode not supported: hirand (1.0)\"\n"
     ]
    },
    {
     "name": "stdout",
     "output_type": "stream",
     "text": [
      "Loading file /Users/nandoide/Downloads/VSCO-2-CE-1.1.0/ViolaEns-KS.sfz...\n",
      "File loaded\n",
      "Saving file /Users/nandoide/Downloads/VSCO-2-CE-1.1.0/sf2/ViolaEns-KS.sf2 ...\n",
      "done\n",
      "/Users/nandoide/Downloads/VSCO-2-CE-1.1.0/Timpani.sfz\n",
      " /Applications/polyphone.app/Contents/MacOS/polyphone -1 -i \"/Users/nandoide/Downloads/VSCO-2-CE-1.1.0/Timpani.sfz\" -d \"/Users/nandoide/Downloads/VSCO-2-CE-1.1.0/sf2\" \n"
     ]
    },
    {
     "name": "stderr",
     "output_type": "stream",
     "text": [
      "\"opcode not supported: swdefault (c2)\"\n",
      "\"opcode not supported: swlokey (c2)\"\n",
      "\"opcode not supported: swhikey (d#2)\"\n",
      "\"opcode not supported: swlast (c2)\"\n",
      "\"opcode not supported: swlabel (C2 Sustain)\"\n",
      "\"opcode not supported: ampegdynamic (1)\"\n",
      "\"opcode not supported: swdefault (c2)\"\n",
      "\"opcode not supported: swlokey (c2)\"\n",
      "\"opcode not supported: swhikey (d#2)\"\n",
      "\"opcode not supported: swlast (c#2)\"\n",
      "\"opcode not supported: swlabel (C#2 Tremolo)\"\n",
      "\"opcode not supported: ampegdynamic (1)\"\n",
      "\"opcode not supported: swdefault (c2)\"\n",
      "\"opcode not supported: swlokey (c2)\"\n",
      "\"opcode not supported: swhikey (d#2)\"\n",
      "\"opcode not supported: swlast (d2)\"\n",
      "\"opcode not supported: swlabel (D2 Spiccato)\"\n",
      "\"opcode not supported: ampegdynamic (1)\"\n",
      "\"opcode not supported: seqlength (2)\"\n",
      "\"opcode not supported: seqposition (1)\"\n",
      "\"opcode not supported: swdefault (c2)\"\n",
      "\"opcode not supported: swlokey (c2)\"\n",
      "\"opcode not supported: swhikey (d#2)\"\n",
      "\"opcode not supported: swlast (d2)\"\n",
      "\"opcode not supported: swlabel (D2 Spiccato)\"\n",
      "\"opcode not supported: ampegdynamic (1)\"\n",
      "\"opcode not supported: seqlength (2)\"\n",
      "\"opcode not supported: seqposition (2)\"\n",
      "\"opcode not supported: swdefault (c2)\"\n",
      "\"opcode not supported: swlokey (c2)\"\n",
      "\"opcode not supported: swhikey (d#2)\"\n",
      "\"opcode not supported: swlast (d#2)\"\n",
      "\"opcode not supported: swlabel (D#2 Pizzicato)\"\n",
      "\"opcode not supported: ampegdynamic (1)\"\n",
      "\"opcode not supported: lorand (0.0)\"\n",
      "\"opcode not supported: hirand (0.5)\"\n",
      "\"opcode not supported: swdefault (c2)\"\n",
      "\"opcode not supported: swlokey (c2)\"\n",
      "\"opcode not supported: swhikey (d#2)\"\n",
      "\"opcode not supported: swlast (d#2)\"\n",
      "\"opcode not supported: swlabel (D#2 Pizzicato)\"\n",
      "\"opcode not supported: ampegdynamic (1)\"\n",
      "\"opcode not supported: lorand (0.5)\"\n",
      "\"opcode not supported: hirand (1.0)\"\n"
     ]
    },
    {
     "name": "stdout",
     "output_type": "stream",
     "text": [
      "Loading file /Users/nandoide/Downloads/VSCO-2-CE-1.1.0/Timpani.sfz...\n",
      "File loaded\n",
      "Saving file /Users/nandoide/Downloads/VSCO-2-CE-1.1.0/sf2/Timpani.sf2 ...\n",
      "done\n",
      "/Users/nandoide/Downloads/VSCO-2-CE-1.1.0/TrumpetSus.sfz\n",
      " /Applications/polyphone.app/Contents/MacOS/polyphone -1 -i \"/Users/nandoide/Downloads/VSCO-2-CE-1.1.0/TrumpetSus.sfz\" -d \"/Users/nandoide/Downloads/VSCO-2-CE-1.1.0/sf2\" \n"
     ]
    },
    {
     "name": "stderr",
     "output_type": "stream",
     "text": [
      "\"opcode not supported: ampegdynamic (1)\"\n",
      "\"opcode not supported: seqlength (2)\"\n",
      "\"opcode not supported: seqposition (1)\"\n",
      "\"opcode not supported: seqlength (2)\"\n",
      "\"opcode not supported: seqposition (2)\"\n"
     ]
    },
    {
     "name": "stdout",
     "output_type": "stream",
     "text": [
      "Loading file /Users/nandoide/Downloads/VSCO-2-CE-1.1.0/TrumpetSus.sfz...\n",
      "File loaded\n",
      "Saving file /Users/nandoide/Downloads/VSCO-2-CE-1.1.0/sf2/TrumpetSus.sf2 ...\n",
      "done\n",
      "/Users/nandoide/Downloads/VSCO-2-CE-1.1.0/Marimba.sfz\n",
      " /Applications/polyphone.app/Contents/MacOS/polyphone -1 -i \"/Users/nandoide/Downloads/VSCO-2-CE-1.1.0/Marimba.sfz\" -d \"/Users/nandoide/Downloads/VSCO-2-CE-1.1.0/sf2\" \n"
     ]
    },
    {
     "name": "stderr",
     "output_type": "stream",
     "text": [
      "\"opcode not supported: ampegdynamic (1)\"\n",
      "\"opcode not supported: seqlength (1)\"\n",
      "\"opcode not supported: seqposition (1)\"\n"
     ]
    },
    {
     "name": "stdout",
     "output_type": "stream",
     "text": [
      "Loading file /Users/nandoide/Downloads/VSCO-2-CE-1.1.0/Marimba.sfz...\n",
      "File loaded\n",
      "Saving file /Users/nandoide/Downloads/VSCO-2-CE-1.1.0/sf2/Marimba.sf2 ...\n",
      "done\n",
      "/Users/nandoide/Downloads/VSCO-2-CE-1.1.0/GM-StylePerc.sfz\n",
      " /Applications/polyphone.app/Contents/MacOS/polyphone -1 -i \"/Users/nandoide/Downloads/VSCO-2-CE-1.1.0/GM-StylePerc.sfz\" -d \"/Users/nandoide/Downloads/VSCO-2-CE-1.1.0/sf2\" \n",
      "Loading file /Users/nandoide/Downloads/VSCO-2-CE-1.1.0/GM-StylePerc.sfz...\n"
     ]
    },
    {
     "name": "stderr",
     "output_type": "stream",
     "text": [
      "\"opcode not supported: ampegdynamic (1)\"\n",
      "\"opcode not supported: ampegdynamic (1)\"\n",
      "\"opcode not supported: seqlength (2)\"\n",
      "\"opcode not supported: seqposition (1)\"\n",
      "\"opcode not supported: seqlength (2)\"\n",
      "\"opcode not supported: seqposition (2)\"\n"
     ]
    },
    {
     "name": "stdout",
     "output_type": "stream",
     "text": [
      "File loaded\n",
      "Saving file /Users/nandoide/Downloads/VSCO-2-CE-1.1.0/sf2/GM-StylePerc.sf2 ...\n",
      "done\n",
      "/Users/nandoide/Downloads/VSCO-2-CE-1.1.0/VSUpright1.sfz\n",
      " /Applications/polyphone.app/Contents/MacOS/polyphone -1 -i \"/Users/nandoide/Downloads/VSCO-2-CE-1.1.0/VSUpright1.sfz\" -d \"/Users/nandoide/Downloads/VSCO-2-CE-1.1.0/sf2\" \n",
      "Loading file /Users/nandoide/Downloads/VSCO-2-CE-1.1.0/VSUpright1.sfz...\n"
     ]
    },
    {
     "name": "stderr",
     "output_type": "stream",
     "text": [
      "\"opcode not supported: ampegdynamic (1)\"\n",
      "\"opcode not supported: lorand (0.0)\"\n",
      "\"opcode not supported: hirand (0.5)\"\n",
      "\"opcode not supported: lorand (0.5)\"\n",
      "\"opcode not supported: hirand (1.0)\"\n"
     ]
    },
    {
     "name": "stdout",
     "output_type": "stream",
     "text": [
      "File loaded\n",
      "Saving file /Users/nandoide/Downloads/VSCO-2-CE-1.1.0/sf2/VSUpright1.sf2 ...\n",
      "done\n"
     ]
    }
   ],
   "source": [
    "# convert sfz files to sf2\n",
    "\n",
    "import os\n",
    "import sys\n",
    "import shutil\n",
    "import zipfile\n",
    "import subprocess\n",
    "import glob\n",
    "\n",
    "\n",
    "polyphone = \"/Applications/polyphone.app/Contents/MacOS/polyphone\"\n",
    "root = \"/Users/nandoide/Downloads/VCSL-1.2.2-RC\"\n",
    "root = \"/Users/nandoide/Downloads/VSCO-2-CE-1.1.0\"\n",
    "output_dir = os.path.join(root, \"sf2\")\n",
    "if not os.path.exists(output_dir):\n",
    "    os.makedirs(output_dir)\n",
    "\n",
    "# get path to all sfz files in root and subfolders\n",
    "\n",
    "sfz_files = []\n",
    "for root, dirs, files in os.walk(root):\n",
    "    for file in files:\n",
    "        if file.endswith(\".sfz\"):\n",
    "            sfz_files.append(os.path.join(root, file))\n",
    "\n",
    "for i, sfz_file in enumerate(sfz_files):\n",
    "    print(sfz_file)\n",
    "    # convert sfz to sf2\n",
    "    cmd = f\"\"\" {polyphone} -1 -i \"{sfz_file}\" -d \"{output_dir}\" \"\"\"\n",
    "    print(cmd)\n",
    "    subprocess.run(cmd, shell=True)\n"
   ]
  }
 ],
 "metadata": {
  "kernelspec": {
   "display_name": ".py11",
   "language": "python",
   "name": "python3"
  },
  "language_info": {
   "codemirror_mode": {
    "name": "ipython",
    "version": 3
   },
   "file_extension": ".py",
   "mimetype": "text/x-python",
   "name": "python",
   "nbconvert_exporter": "python",
   "pygments_lexer": "ipython3",
   "version": "3.11.5"
  }
 },
 "nbformat": 4,
 "nbformat_minor": 2
}
